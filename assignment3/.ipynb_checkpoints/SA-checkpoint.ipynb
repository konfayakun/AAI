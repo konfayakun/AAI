{
 "cells": [
  {
   "cell_type": "code",
   "execution_count": 1,
   "metadata": {},
   "outputs": [],
   "source": [
    "import numpy as np\n",
    "from xml.dom import minidom\n",
    "import matplotlib.pyplot as plt"
   ]
  },
  {
   "cell_type": "code",
   "execution_count": 2,
   "metadata": {},
   "outputs": [],
   "source": [
    "data = minidom.parse('./bayg29.xml')\n",
    "#parameters\n",
    "numberOfCities=29\n",
    "maxTemp=25000\n",
    "minTemp =2\n",
    "maxSteps=1000000\n",
    "coolingFactor=-np.log(maxTemp / minTemp)\n",
    "\n",
    "costs=[]\n",
    "vertices=data.getElementsByTagName('vertex')\n",
    "for vertex in vertices:\n",
    "    cost=[]\n",
    "    for edge in vertex.getElementsByTagName('edge'):\n",
    "        if len(cost)==len(costs):\n",
    "            cost.append(0);\n",
    "        cost.append(float(edge.getAttribute('cost')))\n",
    "    costs.append(cost)\n",
    "    \n",
    "def getCost(path):\n",
    "    totalCost=0\n",
    "    for i in range(1,len(path)):\n",
    "        totalCost+=costs[path[i-1]][path[i]]\n",
    "    totalCost+=costs[path[-1]][path[0]]\n",
    "    return totalCost\n",
    "def getNeighbor2opt(path):\n",
    "    newPath=list(path)\n",
    "    l=np.random.randint(2,numberOfCities-1)\n",
    "    i=np.random.randint(0,numberOfCities-l)\n",
    "    newPath[i:(i+l)]=reversed(newPath[i:(i+l)])\n",
    "    return newPath\n",
    "def acceptanceProbability(currentState,newState,temp):\n",
    "    delta=getCost(newState)-getCost(currentState)\n",
    "    if delta<0: return 1;\n",
    "    return np.exp(-delta/temp)"
   ]
  },
  {
   "cell_type": "code",
   "execution_count": 3,
   "metadata": {},
   "outputs": [],
   "source": [
    "currentState=np.random.permutation(numberOfCities)\n",
    "currentCost=getCost(currentState)\n",
    "bestState=currentState\n",
    "bestPathCost=currentCost"
   ]
  },
  {
   "cell_type": "code",
   "execution_count": 4,
   "metadata": {},
   "outputs": [],
   "source": [
    "i=0\n",
    "temps=[]\n",
    "ccosts=[]\n",
    "temp = maxTemp\n",
    "while i<maxSteps:\n",
    "    temp = maxTemp * np.exp(coolingFactor * i / maxSteps) # best result\n",
    "    neighbor=getNeighbor2opt(currentState)\n",
    "    if(np.random.rand()<acceptanceProbability(currentState,neighbor,temp)):\n",
    "        currentState=neighbor\n",
    "        currentCost=getCost(neighbor)    \n",
    "        if(bestPathCost>currentCost):\n",
    "            bestState=currentState\n",
    "            bestPathCost=currentCost\n",
    "    ccosts.append(currentCost)\n",
    "    temps.append(temp)\n",
    "    i+=1\n",
    "    \n",
    "    \n",
    "    "
   ]
  },
  {
   "cell_type": "code",
   "execution_count": 5,
   "metadata": {},
   "outputs": [
    {
     "name": "stdout",
     "output_type": "stream",
     "text": [
      "Best path:\n",
      " [17-> 14-> 3-> 9-> 19-> 1-> 20-> 4-> 28-> 2-> 25-> 8-> 11-> 5-> 27-> 0-> 23-> 12-> 15-> 26-> 7-> 22-> 6-> 24-> 18-> 10-> 21-> 16-> 13] \n",
      " Total cost: 1610.0\n"
     ]
    }
   ],
   "source": [
    "print(\"Best path:\\n\",str(bestState).replace(\",\",\"->\"),\"\\n Total cost:\",bestPathCost)"
   ]
  },
  {
   "cell_type": "code",
   "execution_count": 8,
   "metadata": {},
   "outputs": [
    {
     "data": {
      "image/png": "[encoded data removed]",
      "text/plain": [
       "<matplotlib.figure.Figure at 0x7f5dbb42af60>"
      ]
     },
     "metadata": {},
     "output_type": "display_data"
    }
   ],
   "source": [
    "plt.ylabel('Cost')\n",
    "plt.xlabel('Iteration')\n",
    "plt.plot(ccosts)\n",
    "plt.show()"
   ]
  },
  {
   "cell_type": "code",
   "execution_count": null,
   "metadata": {},
   "outputs": [],
   "source": []
  }
 ],
 "metadata": {
  "kernelspec": {
   "display_name": "Python 3",
   "language": "python",
   "name": "python3"
  },
  "language_info": {
   "codemirror_mode": {
    "name": "ipython",
    "version": 3
   },
   "file_extension": ".py",
   "mimetype": "text/x-python",
   "name": "python",
   "nbconvert_exporter": "python",
   "pygments_lexer": "ipython3",
   "version": "3.6.4"
  }
 },
 "nbformat": 4,
 "nbformat_minor": 2
}
